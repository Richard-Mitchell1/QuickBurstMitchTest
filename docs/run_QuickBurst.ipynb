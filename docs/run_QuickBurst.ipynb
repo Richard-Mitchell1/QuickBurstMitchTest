{
 "cells": [
  {
   "cell_type": "code",
   "execution_count": 1,
   "id": "fa22a4fd",
   "metadata": {},
   "outputs": [
    {
     "name": "stderr",
     "output_type": "stream",
     "text": [
      "/tmp/ipykernel_170095/956813560.py:1: DeprecationWarning: Importing display from IPython.core.display is deprecated since IPython 7.14, please import from IPython display\n",
      "  from IPython.core.display import display, HTML\n"
     ]
    },
    {
     "data": {
      "text/html": [
       "<style>.container { width:99% !important; }</style>"
      ],
      "text/plain": [
       "<IPython.core.display.HTML object>"
      ]
     },
     "metadata": {},
     "output_type": "display_data"
    }
   ],
   "source": [
    "from IPython.core.display import display, HTML\n",
    "display(HTML(\"<style>.container { width:99% !important; }</style>\"))"
   ]
  },
  {
   "cell_type": "code",
   "execution_count": 2,
   "id": "9894cd2c",
   "metadata": {},
   "outputs": [
    {
     "name": "stderr",
     "output_type": "stream",
     "text": [
      "\n",
      "WARNING: version mismatch between CFITSIO header (v4.000999999999999) and linked library (v4.01).\n",
      "\n",
      "\n",
      "WARNING: version mismatch between CFITSIO header (v4.000999999999999) and linked library (v4.01).\n",
      "\n",
      "\n",
      "WARNING: version mismatch between CFITSIO header (v4.000999999999999) and linked library (v4.01).\n",
      "\n"
     ]
    },
    {
     "name": "stdout",
     "output_type": "stream",
     "text": [
      "Optional mpi4py package is not installed.  MPI support is not available.\n",
      "['/home/mitch/miniconda3/envs/QuickBurst/lib/python39.zip', '/home/mitch/miniconda3/envs/QuickBurst/lib/python3.9', '/home/mitch/miniconda3/envs/QuickBurst/lib/python3.9/lib-dynload', '', '/home/mitch/miniconda3/envs/QuickBurst/lib/python3.9/site-packages', '/home/mitch/miniconda3/envs/QuickBurst/lib/python3.9/site-packages/setuptools/_vendor', '/home/mitch/QuickBurstMitchTest/QuickBurst']\n"
     ]
    },
    {
     "ename": "ModuleNotFoundError",
     "evalue": "No module named 'QuickBurst'",
     "output_type": "error",
     "traceback": [
      "\u001b[0;31m---------------------------------------------------------------------------\u001b[0m",
      "\u001b[0;31mModuleNotFoundError\u001b[0m                       Traceback (most recent call last)",
      "Cell \u001b[0;32mIn[2], line 48\u001b[0m\n\u001b[1;32m     45\u001b[0m sys\u001b[38;5;241m.\u001b[39mpath\u001b[38;5;241m.\u001b[39mappend(\u001b[38;5;124m'\u001b[39m\u001b[38;5;124m/home/mitch/QuickBurstMitchTest/QuickBurst\u001b[39m\u001b[38;5;124m'\u001b[39m)\n\u001b[1;32m     46\u001b[0m \u001b[38;5;28mprint\u001b[39m(sys\u001b[38;5;241m.\u001b[39mpath)\n\u001b[0;32m---> 48\u001b[0m \u001b[38;5;28;01mfrom\u001b[39;00m\u001b[38;5;250m \u001b[39m\u001b[38;5;21;01mQuickBurst\u001b[39;00m\u001b[38;5;250m \u001b[39m\u001b[38;5;28;01mimport\u001b[39;00m QuickBurst_MCMC \u001b[38;5;28;01mas\u001b[39;00m QuickBurst_MCMC\n",
      "\u001b[0;31mModuleNotFoundError\u001b[0m: No module named 'QuickBurst'"
     ]
    }
   ],
   "source": [
    "#chack for updated files\\n,\n",
    "%load_ext autoreload\n",
    "%autoreload 2\n",
    "#import packages\n",
    "from __future__ import division\n",
    "\n",
    "import sys\n",
    "import numpy as np\n",
    "import glob, json\n",
    "import pickle\n",
    "import os as os_pack\n",
    "import matplotlib.pyplot as plt\n",
    "import corner\n",
    "%matplotlib inline\n",
    "%config InlineBackend.figure_format = 'retina'\n",
    "import healpy as hp\n",
    "import os, glob, json, pickle\n",
    "import matplotlib.pyplot as plt\n",
    "import numpy as np\n",
    "import scipy.linalg as sl\n",
    "import enterprise\n",
    "from enterprise.pulsar import Pulsar\n",
    "import enterprise.signals.parameter as parameter\n",
    "from enterprise.signals import utils\n",
    "from enterprise.signals import signal_base\n",
    "from enterprise.signals import selections\n",
    "from enterprise.signals.selections import Selection\n",
    "from enterprise.signals import white_signals\n",
    "from enterprise.signals import gp_signals\n",
    "from enterprise.signals import deterministic_signals\n",
    "import enterprise.constants as const\n",
    "from enterprise_extensions import blocks\n",
    "from enterprise_extensions import models as ee_models\n",
    "from enterprise_extensions import model_utils as ee_model_utils\n",
    "from enterprise_extensions import model_orfs\n",
    "from enterprise_extensions.hypermodel import HyperModel\n",
    "from enterprise_extensions.frequentist import optimal_statistic as opt_stat\n",
    "from enterprise_extensions import sampler as ee_sampler\n",
    "from enterprise.signals.signal_base import LogLikelihood\n",
    "#import enterprise_wavelets as models\n",
    "from enterprise.signals.deterministic_signals import Deterministic\n",
    "from enterprise.signals.parameter import function\n",
    "\n",
    "from PTMCMCSampler.PTMCMCSampler import PTSampler as ptmcmc\n",
    "sys.path.append('/home/mitch/QuickBurstMitchTest/QuickBurst')\n",
    "print(sys.path)\n",
    "\n",
    "from QuickBurst import QuickBurst_MCMC as QuickBurst_MCMC"
   ]
  },
  {
   "cell_type": "code",
   "execution_count": null,
   "id": "0bc1cd8b",
   "metadata": {
    "scrolled": true
   },
   "outputs": [],
   "source": [
    "with open(\"/home/mitch/QuickBurstMitchTest/15_year_data/psrs_trimmed_SNR99p.pkl\", 'rb') as f:\n",
    "    psrs = pickle.load(f)"
   ]
  },
  {
   "cell_type": "code",
   "execution_count": null,
   "id": "c20d9dde",
   "metadata": {
    "scrolled": true
   },
   "outputs": [],
   "source": [
    "noise_file_sim = \"/home/mitch/QuickBurstMitchTest/15_year_data/v1p1_all_dict.json\"\n",
    "with open(noise_file_sim, 'rb') as h:\n",
    "    noise_params = json.load(h)\n",
    "noise_params"
   ]
  },
  {
   "cell_type": "code",
   "execution_count": null,
   "id": "ee5140fc",
   "metadata": {},
   "outputs": [],
   "source": [
    "#Setting dataset max time and reference time\n",
    "maximum = 0\n",
    "minimum = np.inf\n",
    "for psr in psrs:\n",
    "    if psr.toas.max() > maximum:\n",
    "        maximum = psr.toas.max()\n",
    "    if psr.toas.min() < minimum:\n",
    "        minimum = psr.toas.min()\n",
    "\n",
    "\n",
    "#Sets reference time\n",
    "tref = minimum\n",
    "print(tref/3600/24/365)\n",
    "t0_max = (maximum - minimum)/365/24/3600\n",
    "print(t0_max)"
   ]
  },
  {
   "cell_type": "code",
   "execution_count": null,
   "id": "108c98a5",
   "metadata": {
    "scrolled": true
   },
   "outputs": [],
   "source": [
    "#Number of shape parameter updates\n",
    "N_slow=int(1e5)\n",
    "\n",
    "#How often to update fisher matrix proposals (based on shape parameter updates)\n",
    "n_fish_update = int(N_slow/10)\n",
    "\n",
    "#Ratio of projection parameter updates per shape parameter update\n",
    "projection_updates = 10000\n",
    "\n",
    "#Proposal weights (must sum to 1)\n",
    "DE_prob = 0.3\n",
    "fisher_prob = 0.6 \n",
    "prior_draw_prob = 0.1\n",
    "\n",
    "#Number of samples to thin (based on total samples N_slow*projection_updates)\n",
    "thinning = 10000\n",
    "\n",
    "T_max = 4 #2\n",
    "n_chain = 5 #3\n",
    "\n",
    "#Prior bounds on shape params\n",
    "tau_min = 0.2\n",
    "tau_max = 5.0 #3.0\n",
    "f_max = 1e-7\n",
    "f_min = 3.5e-9 #1e-8\n",
    "\n",
    "#Load in tau scan proposal files\n",
    "ts_file = \"/home/mitch/QuickBurstMitchTest/15_year_data/wavelet_tau_scan_SNR99p.pkl\"\n",
    "glitch_ts_file = \"/home/mitch/QuickBurstMitchTest/15_year_data/glitch_tau_scan_SNR99p.pkl\"\n",
    "\n",
    "filepath = \"/home/mitch/QuickBurstMitchTest/15_year_data/qb/\"\n",
    "os.makedirs(filepath, exist_ok = True)\n",
    "savepath = filepath + \"happy\" #NOTE: DO NOT ADD FILE EXTENSION\n",
    "\n",
    "samples, acc_fraction, swap_record, rj_record, ptas, log_likelihood, betas, PT_acc = QuickBurst_MCMC.run_qb(N_slow, T_max, n_chain, psrs,\n",
    "                                                                    max_n_wavelet=3,\n",
    "                                                                    min_n_wavelet=1,\n",
    "                                                                    n_wavelet_start=1,\n",
    "                                                                    RJ_weight=2,\n",
    "                                                                    glitch_RJ_weight=2,\n",
    "                                                                    regular_weight=2,\n",
    "                                                                    noise_jump_weight=2,\n",
    "                                                                    PT_swap_weight=2,\n",
    "                                                                    tau_scan_proposal_weight=2,\n",
    "                                                                    glitch_tau_scan_proposal_weight=2,\n",
    "                                                                    DE_prob = DE_prob,\n",
    "                                                                    fisher_prob = fisher_prob,\n",
    "                                                                    prior_draw_prob = prior_draw_prob,\n",
    "                                                                    de_history_size = 5000,\n",
    "                                                                    tau_scan_file=ts_file,\n",
    "                                                                    glitch_tau_scan_file=glitch_ts_file,\n",
    "                                                                    #gwb_log_amp_range=[-18,-15],\n",
    "                                                                    rn_log_amp_range=[-18,-11],\n",
    "                                                                    wavelet_log_amp_range=[-10.0,-5.0],\n",
    "                                                                    per_psr_rn_log_amp_range=[-20,-11],\n",
    "                                                                    #rn_params = [noise_params['gw_crn_log10_A'],noise_params['gw_crn_gamma']],\n",
    "                                                                    prior_recovery=False,\n",
    "                                                                    #gwb_amp_prior='log-uniform',\n",
    "                                                                    rn_amp_prior='log-uniform',\n",
    "                                                                    wavelet_amp_prior='uniform',\n",
    "                                                                    per_psr_rn_amp_prior='log-uniform',\n",
    "                                                                    #gwb_on_prior=0.975,\n",
    "                                                                    max_n_glitch=3,\n",
    "                                                                    #n_glitch_start='random',\n",
    "                                                                    glitch_log_amp_range=[-10.0,-5.0],\n",
    "                                                                    glitch_amp_prior='uniform',\n",
    "                                                                    f0_max = f_max,\n",
    "                                                                    f0_min = f_min,\n",
    "                                                                    tau_max_in = tau_max,\n",
    "                                                                    tau_min_in = tau_min,\n",
    "                                                                    t0_max=t0_max,\n",
    "                                                                    tref = tref,\n",
    "                                                                    vary_white_noise=True,  \n",
    "                                                                    include_rn=False, vary_rn=False,\n",
    "                                                                    include_equad=True,\n",
    "                                                                    include_ecorr=True,\n",
    "                                                                    include_efac=True,\n",
    "                                                                    wn_backend_selection=True,\n",
    "                                                                    noisedict = noise_params,\n",
    "                                                                    include_per_psr_rn=True,\n",
    "                                                                    vary_per_psr_rn=True,\n",
    "                                                                    # resume_from=savepath,\n",
    "                                                                    #per_psr_rn_start_file=RN_start_file,\n",
    "                                                                    n_fish_update = n_fish_update,\n",
    "                                                                    savepath=savepath, save_every_n=100,\n",
    "                                                                    n_fast_to_slow=projection_updates, thin = thinning)"
   ]
  }
 ],
 "metadata": {
  "kernelspec": {
   "display_name": "QuickBurst",
   "language": "python",
   "name": "python3"
  },
  "language_info": {
   "codemirror_mode": {
    "name": "ipython",
    "version": 3
   },
   "file_extension": ".py",
   "mimetype": "text/x-python",
   "name": "python",
   "nbconvert_exporter": "python",
   "pygments_lexer": "ipython3",
   "version": "3.9.18"
  },
  "toc": {
   "base_numbering": 1,
   "nav_menu": {},
   "number_sections": true,
   "sideBar": true,
   "skip_h1_title": false,
   "title_cell": "Table of Contents",
   "title_sidebar": "Contents",
   "toc_cell": false,
   "toc_position": {},
   "toc_section_display": true,
   "toc_window_display": false
  }
 },
 "nbformat": 4,
 "nbformat_minor": 5
}
